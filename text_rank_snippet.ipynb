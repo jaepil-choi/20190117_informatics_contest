{
 "cells": [
  {
   "cell_type": "code",
   "execution_count": 1,
   "metadata": {},
   "outputs": [],
   "source": [
    "import pandas as pd\n",
    "# import konlpy \n",
    "from konlpy.tag import Kkma\n",
    "# from konlpy.tag import Twitter\n",
    "from sklearn.feature_extraction.text import TfidfVectorizer\n",
    "from sklearn.feature_extraction.text import CountVectorizer\n",
    "from sklearn.preprocessing import normalize\n",
    "import numpy as np"
   ]
  },
  {
   "cell_type": "code",
   "execution_count": 2,
   "metadata": {},
   "outputs": [],
   "source": [
    "stopwords = pd.read_csv('Korean_stopwords100.txt', sep=\"\\t\", header=None)\n",
    "stopwords.columns = [\"stopword\", \"POS\", \"ratio\"]"
   ]
  },
  {
   "cell_type": "code",
   "execution_count": 3,
   "metadata": {},
   "outputs": [],
   "source": [
    "stopwords_list = list(stopwords.stopword)"
   ]
  },
  {
   "cell_type": "code",
   "execution_count": 123,
   "metadata": {},
   "outputs": [],
   "source": [
    "class SentenceTokenizer(object):\n",
    "    def __init__(self):\n",
    "        self.kkma = Kkma()\n",
    "#         self.twitter = Twitter()\n",
    "        self.stopwords = stopwords_list + ['중인' ,'만큼', '마찬가지', '꼬집었', \"연합뉴스\", \"데일리\", \"동아일보\", \"중앙일보\", \"조선일보\", \"기자\"\n",
    "    ,\"아\", \"휴\", \"아이구\", \"아이쿠\", \"아이고\", \"어\", \"나\", \"우리\", \"저희\", \"따라\", \"의해\", \"을\", \"를\", \"에\", \"의\", \"가\", \"존경\", \"여러분\", '올해', '지난해', '국가', '정부'] \n",
    "    # 정부? 국민? \n",
    "        \n",
    "    def text2sentences(self, text):\n",
    "        sentences = self.kkma.sentences(text)\n",
    "        for idx in range(0, len(sentences)):\n",
    "            if len(sentences[idx]) <= 10:\n",
    "                sentences[idx-1] += (' ' + sentences[idx])\n",
    "                sentences[idx] = ''\n",
    "\n",
    "        return sentences\n",
    "    \n",
    "    def get_nouns(self, sentences):\n",
    "        nouns = []\n",
    "        for sentence in sentences:\n",
    "            if sentence is not '':\n",
    "                nouns.append(' '.join([noun for noun in self.kkma.nouns(str(sentence)) # kkma로 바꿈. \n",
    "                if noun not in self.stopwords and len(noun) > 1]))\n",
    "    \n",
    "        return nouns"
   ]
  },
  {
   "cell_type": "code",
   "execution_count": 124,
   "metadata": {},
   "outputs": [],
   "source": [
    "class GraphMatrix(object):\n",
    "    def __init__(self):\n",
    "        self.tfidf = TfidfVectorizer()\n",
    "        self.cnt_vec = CountVectorizer()\n",
    "        self.graph_sentence = []\n",
    "    \n",
    "    def build_sent_graph(self, sentence): # sen = [\"안녕 나 이름 문재인\", \"신년 정부 인사 국민 문재인\", \"정부 박근혜 촛불 나 이름\"] 와 같이 명사로 tokenize된 문장들의  iterable한 리스트를 받는다. \n",
    "        tfidf_mat = self.tfidf.fit_transform(sentence).toarray()\n",
    "        self.graph_sentence = np.dot(tfidf_mat, tfidf_mat.T)\n",
    "        \n",
    "        return self.graph_sentence\n",
    "    \n",
    "    def build_words_graph(self, sentence):\n",
    "        cnt_vec_mat = normalize(self.cnt_vec.fit_transform(sentence).toarray().astype(float), axis=0)\n",
    "        vocab = self.cnt_vec.vocabulary_\n",
    "        \n",
    "        return np.dot(cnt_vec_mat.T, cnt_vec_mat), {vocab[word] : word for word in vocab}"
   ]
  },
  {
   "cell_type": "code",
   "execution_count": 125,
   "metadata": {},
   "outputs": [],
   "source": [
    "class Rank(object):\n",
    "    def get_ranks(self, graph, d=0.85): # d = damping factor\n",
    "        A = graph\n",
    "        matrix_size = A.shape[0]\n",
    "        for id in range(matrix_size):\n",
    "            A[id, id] = 0 # diagonal 부분을 0으로\n",
    "            link_sum = np.sum(A[:,id]) # A[:, id] = A[:][id]\n",
    "            if link_sum != 0:\n",
    "                A[:, id] /= link_sum\n",
    "            A[:, id] *= -d\n",
    "            A[id, id] = 1\n",
    "    \n",
    "        B = (1-d) * np.ones((matrix_size, 1))\n",
    "        ranks = np.linalg.solve(A, B) # 연립방정식 Ax = b\n",
    "    \n",
    "        return {idx: r[0] for idx, r in enumerate(ranks)}\n"
   ]
  },
  {
   "cell_type": "code",
   "execution_count": 126,
   "metadata": {},
   "outputs": [],
   "source": [
    "class TextRank(object):\n",
    "    def __init__(self, text):\n",
    "        self.sent_tokenize = SentenceTokenizer()\n",
    "        \n",
    "        self.sentences = self.sent_tokenize.text2sentences(text) # 문장들. \n",
    "    \n",
    "        self.nouns = self.sent_tokenize.get_nouns(self.sentences) # nouns 말뭉치 문장들. \n",
    "\n",
    "        self.graph_matrix = GraphMatrix()\n",
    "        self.sent_graph = self.graph_matrix.build_sent_graph(self.nouns)\n",
    "        self.words_graph, self.idx2word = self.graph_matrix.build_words_graph(self.nouns)\n",
    "\n",
    "        self.rank = Rank()\n",
    "        self.sent_rank_idx = self.rank.get_ranks(self.sent_graph)\n",
    "        self.sorted_sent_rank_idx = sorted(self.sent_rank_idx, key=lambda k: self.sent_rank_idx[k], reverse=True)\n",
    "\n",
    "        self.word_rank_idx = self.rank.get_ranks(self.words_graph)\n",
    "        self.sorted_word_rank_idx = sorted(self.word_rank_idx, key=lambda k: self.word_rank_idx[k], reverse=True)\n",
    "\n",
    "    def summarize(self, sent_num=3):\n",
    "        summary = []\n",
    "        index=[]\n",
    "        \n",
    "        for idx in self.sorted_sent_rank_idx[:sent_num]:\n",
    "            index.append(idx)\n",
    "        \n",
    "#         index.sort() # ㄱㄴㄷ 순으로 해놓는건 말도 안된다. 중요도 순으로 오도록 재설정. \n",
    "        for idx in index:\n",
    "            summary.append(self.sentences[idx])\n",
    "        \n",
    "        return summary\n",
    "        \n",
    "    def keywords(self, word_num=10):\n",
    "        rank = Rank()\n",
    "        rank_idx = rank.get_ranks(self.words_graph)\n",
    "#         sorted_rank_idx = sorted(rank_idx, key=lambda k: rank_idx[k], reverse=True)\n",
    "        \n",
    "        ###\n",
    "        sorted_rank_idx = []\n",
    "        for k, v in rank_idx.items():\n",
    "            sorted_rank_idx.append((k,v))\n",
    "        sorted_rank_idx = sorted(sorted_rank_idx, key=lambda i: i[1], reverse=True)\n",
    "        ###\n",
    "        \n",
    "        keywords = []\n",
    "        index=[]\n",
    "        for idx in sorted_rank_idx[:word_num]:\n",
    "            index.append(idx)\n",
    "        \n",
    "        #index.sort()\n",
    "        for idx in index:\n",
    "            keywords.append((self.idx2word[idx[0]], idx[1]))\n",
    "        \n",
    "        return keywords"
   ]
  },
  {
   "cell_type": "code",
   "execution_count": 127,
   "metadata": {},
   "outputs": [],
   "source": [
    "president_2019_newyear = open('president2019newyear.txt',encoding='UTF8').read()"
   ]
  },
  {
   "cell_type": "code",
   "execution_count": 128,
   "metadata": {},
   "outputs": [
    {
     "name": "stdout",
     "output_type": "stream",
     "text": [
      "한반도 비핵화에 대한 약속이 지켜 지고 평화가 완전히 제도화될 때까지 긴장을 늦추지 않겠습니다.\n",
      "\n",
      "이러한 정책을 통해 지난해, 전반적인 가계 실질소득을 늘리고 의료, 보육, 통신 등의 필수 생계비를 줄일 수 있었습니다.\n",
      "\n",
      "공정경제 법안의 조속한 입법을 위해 여야 정 국정 상설 협의체를 더욱 활성화 하도록 노력하겠습니다.\n",
      "\n",
      "우리 정부가 추진하고 있는 ' 사람 중심 경제' 와 ' 혁신적 포용국가' 가 바로 그것입니다.\n",
      "\n",
      "그래서 OECD, IMF 같은 국제기구와 주요 국가들은 ' 포용적 성장' 을 그 해법으로 제시하고 있습니다.\n",
      "\n",
      "keywords : [('경제', 3.4950155210541545), ('성장', 2.8436652910569165), ('국민', 2.8429200618529946), ('혁신', 2.60634448771167), ('평화', 2.3451490969635), ('작년', 2.285739487031945), ('확대', 2.2504597249831635), ('지원', 2.159854221668958), ('추진', 2.119335346462586), ('문화', 2.039730659197367)]\n"
     ]
    }
   ],
   "source": [
    "textrank = TextRank(president_2019_newyear)\n",
    "for row in textrank.summarize(5):\n",
    "    print(row)\n",
    "    print()\n",
    "print('keywords :',textrank.keywords())\n"
   ]
  },
  {
   "cell_type": "code",
   "execution_count": 129,
   "metadata": {},
   "outputs": [],
   "source": [
    "president_2018_newyear = open('newyear_2018.txt',encoding='UTF8').read()"
   ]
  },
  {
   "cell_type": "code",
   "execution_count": 130,
   "metadata": {},
   "outputs": [
    {
     "name": "stdout",
     "output_type": "stream",
     "text": [
      "국민의 삶을 개선하기 위해 정부도 혁신하겠습니다.\n",
      "\n",
      "존경하는 국민 여러분, 한반도의 평화 정착으로 국민의 삶이 평화롭고 안정되어야 합니다.\n",
      "\n",
      "국민들께 서는 자신의 소중한 일상을 국가에 내 어 주었습니다.\n",
      "\n",
      "국민 개개인의 삶 속에 깊이 파고든 불안과 불신을 걷어내겠습니다.\n",
      "\n",
      "남북이 공동으로 선언한 한반도 비핵화가 결코 양보할 수 없는 우리의 기본 입장입니다.\n",
      "\n",
      "keywords : [('국민', 4.833902265835707), ('지원', 2.5210481766457775), ('목표', 2.0594848573016944), ('경제', 1.9911990299032991), ('안전', 1.9806093680379342), ('일자리', 1.9624204103610885), ('강화', 1.9510289888587673), ('평화', 1.9216194946682468), ('청년', 1.8943218529486812), ('민국', 1.8665510148973445)]\n"
     ]
    }
   ],
   "source": [
    "textrank = TextRank(president_2018_newyear)\n",
    "for row in textrank.summarize(5):\n",
    "    print(row)\n",
    "    print()\n",
    "print('keywords :',textrank.keywords())\n"
   ]
  },
  {
   "cell_type": "code",
   "execution_count": null,
   "metadata": {},
   "outputs": [],
   "source": []
  }
 ],
 "metadata": {
  "kernelspec": {
   "display_name": "Python 3",
   "language": "python",
   "name": "python3"
  },
  "language_info": {
   "codemirror_mode": {
    "name": "ipython",
    "version": 3
   },
   "file_extension": ".py",
   "mimetype": "text/x-python",
   "name": "python",
   "nbconvert_exporter": "python",
   "pygments_lexer": "ipython3",
   "version": "3.6.5"
  }
 },
 "nbformat": 4,
 "nbformat_minor": 2
}
